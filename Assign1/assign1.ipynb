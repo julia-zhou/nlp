{
 "cells": [
  {
   "cell_type": "markdown",
   "metadata": {},
   "source": [
    "# Jingyuan Zhou\n",
    "# NLP Assignment 1"
   ]
  },
  {
   "cell_type": "code",
   "execution_count": 1,
   "metadata": {
    "collapsed": false
   },
   "outputs": [],
   "source": [
    "import pandas as pd\n",
    "import numpy as np\n",
    "import matplotlib.pyplot as plt\n",
    "\n",
    "from scipy.sparse import lil_matrix, coo_matrix\n",
    "from scipy.stats import spearmanr\n",
    "# from sklearn import metrics.pairwise.cosine_similarity\n",
    "from scipy import spatial\n",
    "\n",
    "%matplotlib inline"
   ]
  },
  {
   "cell_type": "markdown",
   "metadata": {},
   "source": [
    "# 1. Required Tasks\n",
    "\n",
    "## 1.1 Distributional Counting"
   ]
  },
  {
   "cell_type": "code",
   "execution_count": 2,
   "metadata": {
    "collapsed": false
   },
   "outputs": [],
   "source": [
    "V = list(pd.read_csv(\"vocab-wordsim.txt\", header = None)[0])\n",
    "\n",
    "f = open(\"vocab-25k.txt\", 'r')\n",
    "V_C = f.read().split('\\n')\n",
    "f.close()\n",
    "\n",
    "f = open(\"wiki-1percent.txt\", 'r')\n",
    "wiki = f.read().split('\\n')\n",
    "f.close()"
   ]
  },
  {
   "cell_type": "code",
   "execution_count": 3,
   "metadata": {
    "collapsed": true
   },
   "outputs": [],
   "source": [
    "men = pd.read_table('men.txt')\n",
    "simlex = pd.read_table('simlex-999.txt')"
   ]
  },
  {
   "cell_type": "code",
   "execution_count": 139,
   "metadata": {
    "collapsed": true
   },
   "outputs": [],
   "source": [
    "def get_word_index(Vocab):\n",
    "    ret = dict()\n",
    "    for index, word in enumerate(Vocab):\n",
    "        ret[word] = index\n",
    "    return ret"
   ]
  },
  {
   "cell_type": "code",
   "execution_count": 148,
   "metadata": {
    "collapsed": false
   },
   "outputs": [],
   "source": [
    "def get_C(w, V, V_C):\n",
    "    V_set = get_word_index(V)\n",
    "    V_C_set = get_word_index(V_C)\n",
    "    \n",
    "    C = lil_matrix((len(V), len(V_C)))\n",
    "    for sent in wiki:\n",
    "        sent = sent.split()\n",
    "        sent.insert(0, '<s>')\n",
    "        sent.append('</s>')\n",
    "        for loc, word in enumerate(sent):\n",
    "            try:\n",
    "                i = V_set[word]\n",
    "                for c in sent[max(loc-w, 0):loc+w+1]:\n",
    "                    try:\n",
    "                        j = V_C_set[c]\n",
    "                        C[i, j] += 1\n",
    "    #                     print(word, c)\n",
    "                    except:\n",
    "                        continue\n",
    "\n",
    "            except:\n",
    "                continue    \n",
    "    return C"
   ]
  },
  {
   "cell_type": "code",
   "execution_count": 209,
   "metadata": {
    "collapsed": true
   },
   "outputs": [],
   "source": [
    "V_set = get_word_index(V)\n",
    "V_C_set = get_word_index(V_C)"
   ]
  },
  {
   "cell_type": "code",
   "execution_count": 20,
   "metadata": {
    "collapsed": false
   },
   "outputs": [],
   "source": [
    "w = 3\n",
    "C_3 = get_C(w, V_set, V_C_set)"
   ]
  },
  {
   "cell_type": "code",
   "execution_count": 211,
   "metadata": {
    "collapsed": true
   },
   "outputs": [],
   "source": [
    "def get_cosine(C, x, y, V_set = V_set):\n",
    "    try:\n",
    "        i = V_set[x]\n",
    "        j = V_set[y]\n",
    "        return 1 - spatial.distance.cosine(C.getrow(i).toarray(), C.getrow(j).toarray())\n",
    "\n",
    "    except:\n",
    "        return 0"
   ]
  },
  {
   "cell_type": "code",
   "execution_count": 212,
   "metadata": {
    "collapsed": true
   },
   "outputs": [],
   "source": [
    "def EVALWS(C, V_set, df):\n",
    "    myscore = df.apply(lambda x: get_cosine(C, x[0], x[1]),1)\n",
    "    return spearmanr(df.iloc[:, -1],myscore)[0]"
   ]
  },
  {
   "cell_type": "code",
   "execution_count": 23,
   "metadata": {
    "collapsed": false
   },
   "outputs": [
    {
     "name": "stderr",
     "output_type": "stream",
     "text": [
      "/software/python-2.7.12-el7-x86_64/lib/python2.7/site-packages/scipy-0.18.1-py2.7-linux-x86_64.egg/scipy/spatial/distance.py:326: RuntimeWarning: invalid value encountered in double_scalars\n",
      "  dist = 1.0 - np.dot(u, v) / (norm(u) * norm(v))\n"
     ]
    }
   ],
   "source": [
    "men_c_3 = EVALWS(C_3, men)\n",
    "simlex_c_3 = EVALWS(C_3, simlex)"
   ]
  },
  {
   "cell_type": "code",
   "execution_count": 230,
   "metadata": {
    "collapsed": false
   },
   "outputs": [
    {
     "name": "stdout",
     "output_type": "stream",
     "text": [
      "0.225178836606\n",
      "0.0943947630532\n"
     ]
    }
   ],
   "source": [
    "print men_c_3\n",
    "print simlex_c_3"
   ]
  },
  {
   "cell_type": "markdown",
   "metadata": {},
   "source": [
    "## 1.2 Computing PMIs"
   ]
  },
  {
   "cell_type": "code",
   "execution_count": 37,
   "metadata": {
    "collapsed": true
   },
   "outputs": [],
   "source": [
    "def pmi(p_xy, p_x, p_y):\n",
    "    # i is the center word, and j is the word in the context window\n",
    "    return max(np.log2(p_xy/(p_x*p_y)),0) #note: actually ppmi"
   ]
  },
  {
   "cell_type": "code",
   "execution_count": 177,
   "metadata": {
    "collapsed": true
   },
   "outputs": [],
   "source": [
    "def get_C_pmi(C, sym, V = V, V_C = V_C, index = None):\n",
    "    C_ = C.tocoo()\n",
    "    \n",
    "    # make C a dataframe\n",
    "    d = {'i': C_.row, 'j': C_.col, 'ij': zip(C_.row, C_.col), 'data': C_.data}\n",
    "    C_df = pd.DataFrame(d)\n",
    "    \n",
    "    C_i = []\n",
    "    for i in range(len(V)):\n",
    "        C_i.append(sum(C_df[C_df['i'] == i]['data']))\n",
    "  \n",
    "    C_j = []\n",
    "    for j in range(len(V_C)):\n",
    "        C_j.append(sum(C_df[C_df['j'] == j]['data']))\n",
    "    \n",
    "    t = sum(C_df['data'])  \n",
    "#     rows,cols = C_.nonzero()\n",
    "#     tuples = zip(rows,cols)\n",
    "    \n",
    "    print 'Finished preliminary calculations'\n",
    "    \n",
    "    C_df['pmi'] = C_df.apply(lambda x: cal(x, t, C_df, C_i, C_j, sym),1)\n",
    "    return coo_matrix((C_df['pmi'], (C_df['i'], C_df['j']))).tolil()"
   ]
  },
  {
   "cell_type": "code",
   "execution_count": 189,
   "metadata": {
    "collapsed": true
   },
   "outputs": [],
   "source": [
    "def cal(x, t, C_df, C_i, C_j, sym):\n",
    "    #print x\n",
    "    i = x['i']\n",
    "    j = x['j']\n",
    "#     if sym:\n",
    "#         res = int(C_df[C_df['ij'] == (i, j)]['pmi'])\n",
    "#         return res\n",
    "    v = x['data']\n",
    "    p_xy = v/t\n",
    "    p_x = C_i[i]/t\n",
    "    p_y = C_j[j]/t\n",
    "    return pmi(p_xy, p_x, p_y)"
   ]
  },
  {
   "cell_type": "code",
   "execution_count": 169,
   "metadata": {
    "collapsed": false
   },
   "outputs": [
    {
     "name": "stdout",
     "output_type": "stream",
     "text": [
      "Finished prelimenary calculations\n"
     ]
    }
   ],
   "source": [
    "C_pmi_3 = get_C_pmi(C_3, False)"
   ]
  },
  {
   "cell_type": "code",
   "execution_count": 172,
   "metadata": {
    "collapsed": false
   },
   "outputs": [],
   "source": [
    "men_cpmi_3 = EVALWS(C_pmi_3, men)\n",
    "simlex_cpmi_3 = EVALWS(C_pmi_3, simlex)"
   ]
  },
  {
   "cell_type": "code",
   "execution_count": 232,
   "metadata": {
    "collapsed": false
   },
   "outputs": [
    {
     "name": "stdout",
     "output_type": "stream",
     "text": [
      "0.531649006921\n",
      "0.214886839911\n"
     ]
    }
   ],
   "source": [
    "print men_cpmi_3\n",
    "print simlex_cpmi_3"
   ]
  },
  {
   "cell_type": "markdown",
   "metadata": {},
   "source": [
    "So there's more correlation to human coding result when we use pmi instead of pure frequency-based word vectors.\n",
    "\n",
    "## 1.3 Experimentation"
   ]
  },
  {
   "cell_type": "code",
   "execution_count": 175,
   "metadata": {
    "collapsed": true
   },
   "outputs": [],
   "source": [
    "# w=1\n",
    "C_1 = get_C(11, V, V_C)\n",
    "men_c_1 = EVALWS(C_1, men)                                                                                                                                  \n",
    "simlex_c_1 = EVALWS(C_1, simlex)"
   ]
  },
  {
   "cell_type": "code",
   "execution_count": 176,
   "metadata": {
    "collapsed": false
   },
   "outputs": [
    {
     "name": "stdout",
     "output_type": "stream",
     "text": [
      "Finished prelimenary calculations\n"
     ]
    }
   ],
   "source": [
    "C_pmi_1 = get_C_pmi(C_1, False)\n",
    "men_cpmi_1 = EVALWS(C_pmi_1, men)\n",
    "simlex_cpmi_1 = EVALWS(C_pmi_1, simlex)"
   ]
  },
  {
   "cell_type": "code",
   "execution_count": 178,
   "metadata": {
    "collapsed": false
   },
   "outputs": [
    {
     "name": "stdout",
     "output_type": "stream",
     "text": [
      "Finished C\n"
     ]
    }
   ],
   "source": [
    "# w=6\n",
    "C_6 = get_C(6, V, V_C)\n",
    "print 'Finished C'\n",
    "men_c_6 = EVALWS(C_6, men)\n",
    "simlex_c_6 = EVALWS(C_6, simlex)"
   ]
  },
  {
   "cell_type": "code",
   "execution_count": 179,
   "metadata": {
    "collapsed": false
   },
   "outputs": [
    {
     "name": "stdout",
     "output_type": "stream",
     "text": [
      "Finished preliminary calculations\n"
     ]
    }
   ],
   "source": [
    "C_pmi_6 = get_C_pmi(C_6, False)\n",
    "men_cpmi_6 = EVALWS(C_pmi_6, men)\n",
    "simlex_cpmi_6 = EVALWS(C_pmi_6, simlex)"
   ]
  },
  {
   "cell_type": "code",
   "execution_count": 183,
   "metadata": {
    "collapsed": false
   },
   "outputs": [
    {
     "data": {
      "text/plain": [
       "[<matplotlib.lines.Line2D at 0x7f5ff368a210>]"
      ]
     },
     "execution_count": 183,
     "metadata": {},
     "output_type": "execute_result"
    },
    {
     "data": {
      "image/png": "[encoded data removed]",
      "text/plain": [
       "<matplotlib.figure.Figure at 0x7f5ffce62f90>"
      ]
     },
     "metadata": {},
     "output_type": "display_data"
    }
   ],
   "source": [
    "plt.plot([men_cpmi_1, men_cpmi_3, men_cpmi_6])"
   ]
  },
  {
   "cell_type": "code",
   "execution_count": 185,
   "metadata": {
    "collapsed": false
   },
   "outputs": [
    {
     "data": {
      "text/plain": [
       "[<matplotlib.lines.Line2D at 0x7f5ff3509850>]"
      ]
     },
     "execution_count": 185,
     "metadata": {},
     "output_type": "execute_result"
    },
    {
     "data": {
      "image/png": "[encoded data removed]",
      "text/plain": [
       "<matplotlib.figure.Figure at 0x7f5ff35f46d0>"
      ]
     },
     "metadata": {},
     "output_type": "display_data"
    }
   ],
   "source": [
    "plt.plot([simlex_cpmi_1, simlex_cpmi_3, simlex_cpmi_6])"
   ]
  },
  {
   "cell_type": "markdown",
   "metadata": {},
   "source": [
    "Here, we only compare results using pmi. We could observe that as window size increases, the correlation between our result and human encoding result generally increases as well.\n",
    "\n",
    "Since Simlex-999 measures paraphrastic similarity: two words are “similar” if they have similar meanings and MEN measures relatedness, our result based on pmi correlates more with MEN.\n",
    "\n",
    "## 1.4 Analysis\n",
    "\n",
    "### 1.4.1 Warm-up: Printing nearest neighbors"
   ]
  },
  {
   "cell_type": "code",
   "execution_count": 192,
   "metadata": {
    "collapsed": true
   },
   "outputs": [],
   "source": [
    "M_1 = get_C(1, V_C, V_C)\n",
    "M_pmi_1 = get_C_pmi(M_1, True, V = V_C)\n",
    "\n",
    "M_6 = get_C(6, V_C, V_C)\n",
    "M_pmi_6 = get_C_pmi(M_6, True, V = V_C)"
   ]
  },
  {
   "cell_type": "code",
   "execution_count": 213,
   "metadata": {
    "collapsed": true
   },
   "outputs": [],
   "source": [
    "q = 'monster'\n",
    "def get_nnn(q):\n",
    "    cos_similarity_1 = []\n",
    "    cos_similarity_6 = []\n",
    "    for word in V_C:\n",
    "        if word == q:\n",
    "            cos_1 = 1\n",
    "            cos_6 = 1\n",
    "        else:\n",
    "            cos_1 = get_cosine(M_pmi_1, q, word, V_set = V_C_set)\n",
    "            cos_6 = get_cosine(M_pmi_6, q, word, V_set = V_C_set)\n",
    "\n",
    "        cos_similarity_1.append(cos_1)\n",
    "        cos_similarity_6.append(cos_6)\n",
    "    d = {'word': V_C, 'sim_1': cos_similarity_1, 'sim_6': cos_similarity_6}\n",
    "    df = pd.DataFrame(d)\n",
    "    return df"
   ]
  },
  {
   "cell_type": "code",
   "execution_count": 214,
   "metadata": {
    "collapsed": true
   },
   "outputs": [],
   "source": [
    "monster_df = get_nnn(q)"
   ]
  },
  {
   "cell_type": "code",
   "execution_count": 225,
   "metadata": {
    "collapsed": false
   },
   "outputs": [
    {
     "data": {
      "text/html": [
       "<div>\n",
       "<table border=\"1\" class=\"dataframe\">\n",
       "  <thead>\n",
       "    <tr style=\"text-align: right;\">\n",
       "      <th></th>\n",
       "      <th>sim_1</th>\n",
       "      <th>sim_6</th>\n",
       "      <th>word</th>\n",
       "    </tr>\n",
       "  </thead>\n",
       "  <tbody>\n",
       "    <tr>\n",
       "      <th>4854</th>\n",
       "      <td>1.000000</td>\n",
       "      <td>1.000000</td>\n",
       "      <td>monster</td>\n",
       "    </tr>\n",
       "    <tr>\n",
       "      <th>12924</th>\n",
       "      <td>0.118009</td>\n",
       "      <td>0.107380</td>\n",
       "      <td>clown</td>\n",
       "    </tr>\n",
       "    <tr>\n",
       "      <th>21899</th>\n",
       "      <td>0.114411</td>\n",
       "      <td>0.061970</td>\n",
       "      <td>cock</td>\n",
       "    </tr>\n",
       "    <tr>\n",
       "      <th>23907</th>\n",
       "      <td>0.111315</td>\n",
       "      <td>0.060991</td>\n",
       "      <td>spaghetti</td>\n",
       "    </tr>\n",
       "    <tr>\n",
       "      <th>17747</th>\n",
       "      <td>0.109690</td>\n",
       "      <td>0.053334</td>\n",
       "      <td>commonplace</td>\n",
       "    </tr>\n",
       "    <tr>\n",
       "      <th>19840</th>\n",
       "      <td>0.109082</td>\n",
       "      <td>0.086882</td>\n",
       "      <td>ness</td>\n",
       "    </tr>\n",
       "    <tr>\n",
       "      <th>24736</th>\n",
       "      <td>0.105299</td>\n",
       "      <td>0.038148</td>\n",
       "      <td>brant</td>\n",
       "    </tr>\n",
       "    <tr>\n",
       "      <th>15071</th>\n",
       "      <td>0.102020</td>\n",
       "      <td>0.062498</td>\n",
       "      <td>slayer</td>\n",
       "    </tr>\n",
       "    <tr>\n",
       "      <th>17413</th>\n",
       "      <td>0.095218</td>\n",
       "      <td>0.092887</td>\n",
       "      <td>humanoid</td>\n",
       "    </tr>\n",
       "    <tr>\n",
       "      <th>17280</th>\n",
       "      <td>0.093721</td>\n",
       "      <td>0.055793</td>\n",
       "      <td>closet</td>\n",
       "    </tr>\n",
       "    <tr>\n",
       "      <th>9912</th>\n",
       "      <td>0.091263</td>\n",
       "      <td>0.088225</td>\n",
       "      <td>duel</td>\n",
       "    </tr>\n",
       "    <tr>\n",
       "      <th>17337</th>\n",
       "      <td>0.089041</td>\n",
       "      <td>0.117316</td>\n",
       "      <td>frankenstein</td>\n",
       "    </tr>\n",
       "    <tr>\n",
       "      <th>16477</th>\n",
       "      <td>0.088607</td>\n",
       "      <td>0.052235</td>\n",
       "      <td>bait</td>\n",
       "    </tr>\n",
       "    <tr>\n",
       "      <th>11208</th>\n",
       "      <td>0.085498</td>\n",
       "      <td>0.042804</td>\n",
       "      <td>magnet</td>\n",
       "    </tr>\n",
       "    <tr>\n",
       "      <th>22930</th>\n",
       "      <td>0.084901</td>\n",
       "      <td>0.061218</td>\n",
       "      <td>delicious</td>\n",
       "    </tr>\n",
       "    <tr>\n",
       "      <th>3710</th>\n",
       "      <td>0.081610</td>\n",
       "      <td>0.113601</td>\n",
       "      <td>dragon</td>\n",
       "    </tr>\n",
       "  </tbody>\n",
       "</table>\n",
       "</div>"
      ],
      "text/plain": [
       "          sim_1     sim_6          word\n",
       "4854   1.000000  1.000000       monster\n",
       "12924  0.118009  0.107380         clown\n",
       "21899  0.114411  0.061970          cock\n",
       "23907  0.111315  0.060991     spaghetti\n",
       "17747  0.109690  0.053334   commonplace\n",
       "19840  0.109082  0.086882          ness\n",
       "24736  0.105299  0.038148         brant\n",
       "15071  0.102020  0.062498        slayer\n",
       "17413  0.095218  0.092887      humanoid\n",
       "17280  0.093721  0.055793        closet\n",
       "9912   0.091263  0.088225          duel\n",
       "17337  0.089041  0.117316  frankenstein\n",
       "16477  0.088607  0.052235          bait\n",
       "11208  0.085498  0.042804        magnet\n",
       "22930  0.084901  0.061218     delicious\n",
       "3710   0.081610  0.113601        dragon"
      ]
     },
     "execution_count": 225,
     "metadata": {},
     "output_type": "execute_result"
    }
   ],
   "source": [
    "monster_df.sort_values(by = 'sim_1', ascending = False).head(16)"
   ]
  },
  {
   "cell_type": "code",
   "execution_count": 226,
   "metadata": {
    "collapsed": false
   },
   "outputs": [
    {
     "data": {
      "text/html": [
       "<div>\n",
       "<table border=\"1\" class=\"dataframe\">\n",
       "  <thead>\n",
       "    <tr style=\"text-align: right;\">\n",
       "      <th></th>\n",
       "      <th>sim_1</th>\n",
       "      <th>sim_6</th>\n",
       "      <th>word</th>\n",
       "    </tr>\n",
       "  </thead>\n",
       "  <tbody>\n",
       "    <tr>\n",
       "      <th>4854</th>\n",
       "      <td>1.000000</td>\n",
       "      <td>1.000000</td>\n",
       "      <td>monster</td>\n",
       "    </tr>\n",
       "    <tr>\n",
       "      <th>19217</th>\n",
       "      <td>0.053481</td>\n",
       "      <td>0.130149</td>\n",
       "      <td>godzilla</td>\n",
       "    </tr>\n",
       "    <tr>\n",
       "      <th>3159</th>\n",
       "      <td>0.057593</td>\n",
       "      <td>0.129211</td>\n",
       "      <td>evil</td>\n",
       "    </tr>\n",
       "    <tr>\n",
       "      <th>3248</th>\n",
       "      <td>0.076708</td>\n",
       "      <td>0.127128</td>\n",
       "      <td>giant</td>\n",
       "    </tr>\n",
       "    <tr>\n",
       "      <th>19</th>\n",
       "      <td>0.062949</td>\n",
       "      <td>0.126852</td>\n",
       "      <td>\"</td>\n",
       "    </tr>\n",
       "  </tbody>\n",
       "</table>\n",
       "</div>"
      ],
      "text/plain": [
       "          sim_1     sim_6      word\n",
       "4854   1.000000  1.000000   monster\n",
       "19217  0.053481  0.130149  godzilla\n",
       "3159   0.057593  0.129211      evil\n",
       "3248   0.076708  0.127128     giant\n",
       "19     0.062949  0.126852         \""
      ]
     },
     "execution_count": 226,
     "metadata": {},
     "output_type": "execute_result"
    }
   ],
   "source": [
    "monster_df.sort_values(by = 'sim_6', ascending = False).head(5)"
   ]
  },
  {
   "cell_type": "markdown",
   "metadata": {},
   "source": [
    "### 1.4.2 Part-of-speech tag similarity in nearest neighbors\n",
    "\n",
    "Do nearest neighbors tend to have the same part-of-speech tag as the query word, or do they differ? Does the pattern differ across different part-of-speech tags for the query word? How does window size affect this?"
   ]
  },
  {
   "cell_type": "code",
   "execution_count": 236,
   "metadata": {
    "collapsed": true
   },
   "outputs": [],
   "source": [
    "noun = ['apple', 'people', 'book']\n",
    "verb = ['transported', 'graduated', 'become']\n",
    "adj = ['pretty', 'magnificent', 'famous']\n",
    "prep = ['in', 'between', 'for']\n",
    "l = [noun, verb, adj, prep]"
   ]
  },
  {
   "cell_type": "code",
   "execution_count": 244,
   "metadata": {
    "collapsed": false
   },
   "outputs": [
    {
     "name": "stdout",
     "output_type": "stream",
     "text": [
      "apple\n",
      "TOP 10 when w = 1:\n",
      "['apple', 'macintosh', 'orchards', 'ipod', 'scribe', 'chili', 'iphone', 'cherry', 'os', 'dessert']\n",
      "TOP 10 when w = 6:\n",
      "['apple', 'macintosh', 'os', 'ios', 'microsoft', 'ipad', 'software', 'desktop', 'mac', 'iphone']\n",
      "------------------------------------------------------------------\n",
      "\n",
      "people\n",
      "TOP 10 when w = 1:\n",
      "['people', 'students', 'households', 'men', 'years', 'approximately', 'inhabitants', 'families', 'individuals', 'bc']\n",
      "TOP 10 when w = 6:\n",
      "['people', 'about', 'population', 'they', 'them', 'there', 'were', 'their', 'more', 'who']\n",
      "------------------------------------------------------------------\n",
      "\n",
      "book\n",
      "TOP 10 when w = 1:\n",
      "['book', 'books', 'novel', 'story', 'paperback', 'album', 'film', 'memoir', 'comic', 'edition']\n",
      "TOP 10 when w = 6:\n",
      "['book', 'published', 'books', \"'s\", 'written', 'wrote', 'author', 'novel', '\"', 'story']\n",
      "------------------------------------------------------------------\n",
      "\n",
      "transported\n",
      "TOP 10 when w = 1:\n",
      "['transported', 'northwards', 'wolverines', 'megatron', 'marched', 'convicts', 'ejected', 'transporting', 'deported', 'railroads']\n",
      "TOP 10 when w = 6:\n",
      "['transported', 'transport', 'ship', 'prisoners', 'transporting', 'loading', 'freight', 'supplies', 'ships', 'supply']\n",
      "------------------------------------------------------------------\n",
      "\n",
      "graduated\n",
      "TOP 10 when w = 1:\n",
      "['graduated', 'magna', 'cum', 'summa', 'graduating', 'nikolay', 'john', 'william', 'ba', '<s>']\n",
      "TOP 10 when w = 6:\n",
      "['graduated', 'university', 'college', 'school', 'graduating', 'attended', 'bachelor', 'degree', 'laude', 'in']\n",
      "------------------------------------------------------------------\n",
      "\n",
      "become\n",
      "TOP 10 when w = 1:\n",
      "['become', 'became', 'becomes', 'becoming', 'are', 'is', 'more', 'very', 'be', 'most']\n",
      "TOP 10 when w = 6:\n",
      "['become', 'became', 'and', 'who', 'most', 'more', 'are', 'as', 'would', 'a']\n",
      "------------------------------------------------------------------\n",
      "\n",
      "pretty\n",
      "TOP 10 when w = 1:\n",
      "['pretty', 'very', 'fairly', 'quite', 'really', 'extremely', 'too', 'enough', 'relatively', 'rather']\n",
      "TOP 10 when w = 6:\n",
      "['pretty', 'i', 'this', 'it', 'really', 'but', 'you', 'delete', 'so', 'that']\n",
      "------------------------------------------------------------------\n",
      "\n",
      "magnificent\n",
      "TOP 10 when w = 1:\n",
      "['magnificent', 'altarpiece', 'stairway', 'beech', 'ganesh', 'fountains', 'feats', 'obsession', 'neoclassical', 'manners']\n",
      "TOP 10 when w = 6:\n",
      "['magnificent', 'roofs', 'stairway', 'beech', 'entrance', 'pillars', 'brick', 'arch', 'altarpiece', 'gardens']\n",
      "------------------------------------------------------------------\n",
      "\n",
      "famous\n",
      "TOP 10 when w = 1:\n",
      "['famous', 'prominent', 'well-known', 'american', 'popular', 'renowned', 'notable', 'influential', 'important', 'who']\n",
      "TOP 10 when w = 6:\n",
      "['famous', ',', 'and', 'who', \"'s\", 'known', 'including', 'most', 'by', 'became']\n",
      "------------------------------------------------------------------\n",
      "\n",
      "in\n",
      "TOP 10 when w = 1:\n",
      "['in', ',', 'january', 'june', 'february', 'april', 'december', 'november', 'october', 'july']\n",
      "TOP 10 when w = 6:\n",
      "['in', 'until', ',', 'was', 'january', 'born', 'at', 'died', 'april', 'from']\n",
      "------------------------------------------------------------------\n",
      "\n",
      "between\n",
      "TOP 10 when w = 1:\n",
      "['between', 'in', 'from', ',', 'with', 'and', 'until', 'october', 'december', 'june']\n",
      "TOP 10 when w = 6:\n",
      "['between', 'and', 'from', 'two', 'in', 'through', 'with', 'the', 'over', 'which']\n",
      "------------------------------------------------------------------\n",
      "\n",
      "for\n",
      "TOP 10 when w = 1:\n",
      "['for', 'and', 'or', 'are', 'were', 'their', 'from', 'of', 'with', 'at']\n",
      "TOP 10 when w = 6:\n",
      "['for', 'and', 'their', 'use', 'used', 'provide', 'such', 'all', 'while', 'including']\n",
      "------------------------------------------------------------------\n",
      "\n"
     ]
    }
   ],
   "source": [
    "for words in l:\n",
    "    for q in words:\n",
    "        print(q)\n",
    "        res = get_nnn(q)\n",
    "        print 'TOP 10 when w = 1:'\n",
    "        print list(res.sort_values(by = 'sim_1', ascending = False).head(10)['word'])\n",
    "        print 'TOP 10 when w = 6:'\n",
    "        print list(res.sort_values(by = 'sim_6', ascending = False).head(10)['word'])\n",
    "        print '------------------------------------------------------------------\\n'"
   ]
  },
  {
   "cell_type": "markdown",
   "metadata": {},
   "source": [
    "As we could observe in these examples, it depends on the part-of-speech of the word in concern.\n",
    "1. The word is a noun:\n",
    "when window size is small, 1 in our case, the nearest neighbors tend to be of the same part-of-speech as the word in question; however, when the window size is larger, the nearest neighbors tend to be an adjective. e.g. 'people', 'book'\n",
    "\n",
    "2. The word is a verb:\n",
    "The window size does not matter too much. The nearest neighbors are mostly nouns and verbs.\n",
    "\n",
    "3. The word is an adjective:\n",
    "In the case of 'pretty' and 'famous', when window size is small, the nearest neighbors are mostly adj and adv, and when window size is larger, the nearest neighbors are generally not adjectives; however, the nearest neighbors are basically all nouns for 'magnificent' regardless of window size.\n",
    "\n",
    "4. The word is an preposition:\n",
    "The situation is different among the words. \n",
    "\n",
    "To conclude, whether the nearest neighbors are of the same part-of-speech of the word in concern varies across part-of-speeches and the words themselves. Based on what we observed in this practices, there does not seem to be a universal systematic trend. This situation could be changed if we have more data and also a variety of data sources.\n",
    "\n",
    "\n",
    "### 1.4.3 Words with multiple senses\n",
    "Now try choosing words with multiple senses (e.g., bank, cell, apple, apples, axes, frame, light, well, etc.) as query words. What appears to be happening with these words? What happens when you compare the neighbors with different window sizes (w = 1 vs. w = 6)? Discuss your findings, showing examples of nearest neighbors for particular words to support your claims."
   ]
  },
  {
   "cell_type": "code",
   "execution_count": 245,
   "metadata": {
    "collapsed": true
   },
   "outputs": [],
   "source": [
    "multi_words = 'bank, cell, apple, axes, frame, light, well'.split(', ')"
   ]
  },
  {
   "cell_type": "code",
   "execution_count": 246,
   "metadata": {
    "collapsed": false
   },
   "outputs": [
    {
     "name": "stdout",
     "output_type": "stream",
     "text": [
      "bank\n",
      "TOP 10 when w = 1:\n",
      "['bank', 'banks', 'insurance', 'banking', 'company', 'corporation', 'fargo', 'savings', 'lakeland', 'co-operative']\n",
      "TOP 10 when w = 6:\n",
      "['bank', 'banks', 'company', 'banking', 'river', 'corporation', 'investment', 'west', 'located', 'south']\n",
      "------------------------------------------------------------------\n",
      "\n",
      "cell\n",
      "TOP 10 when w = 1:\n",
      "['cell', 'cells', 'cellular', 'carcinoma', 'tissue', 'protein', 'lung', 'neuronal', 'renal', 'proteins']\n",
      "TOP 10 when w = 6:\n",
      "['cell', 'cells', 'protein', 'proteins', 'membrane', 'cellular', 'receptor', 'dna', 'signaling', 'molecules']\n",
      "------------------------------------------------------------------\n",
      "\n",
      "apple\n",
      "TOP 10 when w = 1:\n",
      "['apple', 'macintosh', 'orchards', 'ipod', 'scribe', 'chili', 'iphone', 'cherry', 'os', 'dessert']\n",
      "TOP 10 when w = 6:\n",
      "['apple', 'macintosh', 'os', 'ios', 'microsoft', 'ipad', 'software', 'desktop', 'mac', 'iphone']\n",
      "------------------------------------------------------------------\n",
      "\n",
      "axes\n",
      "TOP 10 when w = 1:\n",
      "['axes', 'deux', 'orthogonal', 'intersect', 'optic', 'coordinate', 'technologies', 'flint', 'ornamental', 'inferior']\n",
      "TOP 10 when w = 6:\n",
      "['axes', 'grind', 'orthogonal', 'intersect', 'vectors', 'axe', 'angles', 'coordinate', 'nationalistic', 'flint']\n",
      "------------------------------------------------------------------\n",
      "\n",
      "frame\n",
      "TOP 10 when w = 1:\n",
      "['frame', 'tubing', 'two-story', 'frames', 'dwelling', 'lightweight', 'alloy', 'rear', 'one-story', 'brick']\n",
      "TOP 10 when w = 6:\n",
      "['frame', 'steel', 'frames', 'roof', 'two-story', 'a', 'rear', 'brick', 'structure', 'one-story']\n",
      "------------------------------------------------------------------\n",
      "\n",
      "light\n",
      "TOP 10 when w = 1:\n",
      "['light', 'heavy', 'lights', 'bright', 'pale', 'yellowish', 'dark', 'radiation', 'or', 'rays']\n",
      "TOP 10 when w = 6:\n",
      "['light', 'with', 'and', 'can', 'are', 'or', 'using', 'dark', 'surface', 'used']\n",
      "------------------------------------------------------------------\n",
      "\n",
      "well\n",
      "TOP 10 when w = 1:\n",
      "['well', 'poorly', 'be', 'properly', 'fully', 'better', 'carefully', 'been', 'widely', 'is']\n",
      "TOP 10 when w = 6:\n",
      "['well', 'and', 'as', 'including', 'other', 'such', 'many', 'are', 'some', 'several']\n",
      "------------------------------------------------------------------\n",
      "\n"
     ]
    }
   ],
   "source": [
    "for q in multi_words:\n",
    "    print(q)\n",
    "    res = get_nnn(q)\n",
    "    print 'TOP 10 when w = 1:'\n",
    "    print list(res.sort_values(by = 'sim_1', ascending = False).head(10)['word'])\n",
    "    print 'TOP 10 when w = 6:'\n",
    "    print list(res.sort_values(by = 'sim_6', ascending = False).head(10)['word'])\n",
    "    print '------------------------------------------------------------------\\n'"
   ]
  },
  {
   "cell_type": "markdown",
   "metadata": {
    "collapsed": true
   },
   "source": [
    "It seems to vary across words:\n",
    "\n",
    "Somewhat Clear Differentiation of meaning:\n",
    "- For 'apple', when window size is small, all nearest neighbors are related to the fruit apple; however, when the window size is larger, the nearest neighbors are related to Apple Inc.\n",
    "\n",
    "- For 'bank', when window size is small, all nearest neighbors are related to the financial institution; however, when the window size is larger, the nearest neighbors are a mix of the financial instituion and bank as in 'bank of a river'.\n",
    "\n",
    "Both window sizes only clearly pick up one meaning:\n",
    "e.g. 'cell' and 'axes'\n",
    "\n",
    "Both window sizes vaguely pick up two meanings:\n",
    "e.g. 'ligtht' and 'well'\n",
    "\n",
    "Again, as we've discussed in the part-of-speech case, I think these observations could only specific to this wikipedia dataset. We might get different results if we use a combination of different resources or a larger dataset. "
   ]
  },
  {
   "cell_type": "code",
   "execution_count": null,
   "metadata": {
    "collapsed": true
   },
   "outputs": [],
   "source": []
  }
 ],
 "metadata": {
  "kernelspec": {
   "display_name": "Python 2",
   "language": "python",
   "name": "python2"
  },
  "language_info": {
   "codemirror_mode": {
    "name": "ipython",
    "version": 2
   },
   "file_extension": ".py",
   "mimetype": "text/x-python",
   "name": "python",
   "nbconvert_exporter": "python",
   "pygments_lexer": "ipython2",
   "version": "2.7.12"
  }
 },
 "nbformat": 4,
 "nbformat_minor": 0
}
